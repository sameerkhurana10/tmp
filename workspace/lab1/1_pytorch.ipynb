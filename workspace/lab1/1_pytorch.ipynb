{
 "cells": [
  {
   "cell_type": "markdown",
   "metadata": {},
   "source": [
    "# Your name: \n",
    "Sameer Khurana (skhurana)"
   ]
  },
  {
   "cell_type": "markdown",
   "metadata": {},
   "source": [
    "# Assigned reading:\n",
    "Chapters 1-3 of textbook"
   ]
  },
  {
   "cell_type": "markdown",
   "metadata": {},
   "source": [
    "# Part 1: MNIST: PyTorch\n",
    "\n",
    "To get you started we have provided a \"deep\" network in this notebook. Run the ipython\n",
    "notebook as you go along and answer the questions. Most questions below have a *small* coding component (you only need to edit code when specifically asked to)."
   ]
  },
  {
   "cell_type": "markdown",
   "metadata": {},
   "source": [
    "## Import libraries and dataset"
   ]
  },
  {
   "cell_type": "code",
   "execution_count": 3,
   "metadata": {},
   "outputs": [],
   "source": [
    "import torch\n",
    "import torchvision\n",
    "import torch.nn as nn\n",
    "import torch.nn.functional as F\n",
    "import torch.optim as optim\n",
    "import time, os\n",
    "import matplotlib.pyplot as plt\n",
    "import numpy as np\n",
    "from torch.utils.data.sampler import SubsetRandomSampler\n",
    "%matplotlib inline\n",
    "\n",
    "num_epochs = 10"
   ]
  },
  {
   "cell_type": "markdown",
   "metadata": {},
   "source": [
    "Import the MNIST dataset"
   ]
  },
  {
   "cell_type": "code",
   "execution_count": 4,
   "metadata": {},
   "outputs": [],
   "source": [
    "transform = torchvision.transforms.Compose(\n",
    "    [torchvision.transforms.ToTensor(),\n",
    "     torchvision.transforms.Normalize((0.5,), (0.5,))])\n",
    "\n",
    "trainset = torchvision.datasets.MNIST(root='./data', train=True,\n",
    "                                        download=True, transform=transform)\n",
    "\n",
    "testset = torchvision.datasets.MNIST(root='./data', train=False,\n",
    "                                       download=True, transform=transform)\n",
    "\n",
    "num_train = len(trainset)\n",
    "indices = list(range(num_train))\n",
    "split = 10000\n",
    "\n",
    "# shuffle data\n",
    "np.random.seed(6825)\n",
    "np.random.shuffle(indices)\n",
    "\n",
    "train_idx, valid_idx = indices[split:], indices[:split]\n",
    "train_sampler = SubsetRandomSampler(train_idx)\n",
    "valid_sampler = SubsetRandomSampler(valid_idx)\n",
    "\n",
    "trainloader = torch.utils.data.DataLoader(trainset, batch_size=50, sampler=train_sampler, shuffle=False)\n",
    "\n",
    "validloader = torch.utils.data.DataLoader(trainset, batch_size=50, sampler=valid_sampler, shuffle=False)\n",
    "\n",
    "testloader = torch.utils.data.DataLoader(testset, batch_size=50, shuffle=False)"
   ]
  },
  {
   "cell_type": "code",
   "execution_count": 8,
   "metadata": {},
   "outputs": [
    {
     "name": "stdout",
     "output_type": "stream",
     "text": [
      "torch.Size([50, 1, 28, 28])\n"
     ]
    }
   ],
   "source": [
    "# DELETE THIS\n",
    "\n",
    "for ex in trainloader:\n",
    "    print(ex[0].shape)\n",
    "    break"
   ]
  },
  {
   "cell_type": "markdown",
   "metadata": {},
   "source": [
    "## Set up the network\n",
    "\n",
    "Network description"
   ]
  },
  {
   "cell_type": "code",
   "execution_count": 26,
   "metadata": {},
   "outputs": [],
   "source": [
    "class Net(nn.Module):\n",
    "    def __init__(self):\n",
    "        super(Net, self).__init__()\n",
    "        self.conv1 = nn.Conv2d(1, 4, 5, padding = 2)\n",
    "        self.pool = nn.MaxPool2d(2, 2)\n",
    "        self.conv2 = nn.Conv2d(4, 8, 5, padding = 2)\n",
    "        self.fc1 = nn.Linear(8 * 7 * 7, 256)\n",
    "        self.fc2 = nn.Linear(256, 10)\n",
    "\n",
    "    def forward(self, x):\n",
    "        x = self.pool(F.relu(self.conv1(x)))\n",
    "        x = self.pool(F.relu(self.conv2(x)))\n",
    "        x = x.view(-1, 8 * 7 * 7)\n",
    "        x = F.relu(self.fc1(x))\n",
    "        x = self.fc2(x)\n",
    "        return x\n",
    "\n",
    "net = Net()\n",
    "\n",
    "criterion = nn.CrossEntropyLoss()\n",
    "optimizer = optim.Adam(net.parameters(), lr=0.0001)"
   ]
  },
  {
   "cell_type": "markdown",
   "metadata": {},
   "source": [
    "## Network Analysis\n",
    "### Question 1.\n",
    "\n",
    "Read the code above and determine the type of each of the layers (convolutional, fully-connected, ReLU, or pooling) and then answer the following questions by updating the cell below:\n",
    "\n",
    "1. How many layers deep is the network and what is the type of each layer (count nonlinear activations as their own layer, but do not count flattening)?\n",
    " \n",
    "2. What is the size of the network input? Your answer should be a 4-D tuple `(batch_size, width, height, channels)`\n",
    "3. Describe the parameters used in each layer:\n",
    "    1. Convolutional layers: Specify a 4-tuple `(weight_width, weight_height, channels, filter_count)`\n",
    "    2. Fully connected layers: Specify a 2-tuple `(num_output_nodes, num_input_nodes)`\n",
    "    3. Pool layer: Specify `(x_window, y_window, x_stride, y_stride)`\n",
    "    4. ReLU: Specify `None`"
   ]
  },
  {
   "cell_type": "code",
   "execution_count": 17,
   "metadata": {},
   "outputs": [
    {
     "name": "stdout",
     "output_type": "stream",
     "text": [
      "Layer Types:  ['conv', 'relu', 'pool', 'conv', 'relu', 'pool', 'fc', 'relu', 'fc']\n",
      "Layer Param:  [(5, 5, 1, 4), None, (2, 2, 2, 2), (5, 5, 4, 8), None, (2, 2, 2, 2), (256, 392), None, (10, 256)]\n"
     ]
    }
   ],
   "source": [
    "# update\n",
    "num_layers = 9\n",
    "\n",
    "layer_type = ['conv', 'relu', 'pool', 'conv', 'relu', 'pool', 'fc', 'relu', 'fc']\n",
    "\n",
    "network_input_sz = (50, 28, 28, 1)\n",
    "\n",
    "conv1_param = (5, 5, 1, 4)\n",
    "\n",
    "conv2_param = (5, 5, 4, 8)\n",
    "\n",
    "fc1_param = (256, 392)\n",
    "\n",
    "fc2_param = (10, 256)\n",
    "\n",
    "pool_layer = (2, 2, 2, 2)\n",
    "\n",
    "relu = None\n",
    "\n",
    "layer_param = [\n",
    "    conv1_param,\n",
    "    None,\n",
    "    pool_layer,\n",
    "    conv2_param,\n",
    "    None,\n",
    "    pool_layer,\n",
    "    fc1_param,\n",
    "    None,\n",
    "    fc2_param,\n",
    "]\n",
    "print(\"Layer Types: \", layer_type)\n",
    "print(\"Layer Param: \", layer_param)"
   ]
  },
  {
   "cell_type": "markdown",
   "metadata": {},
   "source": [
    "### Question 2.\n",
    "\n",
    "One way of finding the layer input sizes is simply by inspection. Since the inputs of a subsequent layer are the outputs of a previous layer, we can also compute the size of these outputs based on the inputs sizes and weight parameters. Complete the `get_output_size` function to do this."
   ]
  },
  {
   "cell_type": "code",
   "execution_count": 21,
   "metadata": {},
   "outputs": [
    {
     "name": "stdout",
     "output_type": "stream",
     "text": [
      "Input  :  (50, 28, 28, 1)\n",
      "Layer 1:  (50, 28, 28, 4)\n",
      "Layer 2:  (50, 28, 28, 4)\n",
      "Layer 3:  (50, 14, 14, 4)\n",
      "Layer 4:  (50, 14, 14, 8)\n",
      "Layer 5:  (50, 14, 14, 8)\n",
      "Layer 6:  (50, 7, 7, 8)\n",
      "Layer 7:  (50, 256)\n",
      "Layer 8:  (50, 256)\n",
      "Layer 9:  (50, 10)\n"
     ]
    }
   ],
   "source": [
    "import math\n",
    "\n",
    "def get_output_size(input_sz, layer_type, layer_param):\n",
    "    \n",
    "    # Input shape: (N, W, H, C)\n",
    "    \n",
    "    batch_size = input_sz[0]\n",
    "    \n",
    "    if len(input_sz) == 4:\n",
    "\n",
    "        width_in = input_sz[1]\n",
    "\n",
    "        height_in = input_sz[2]\n",
    "\n",
    "        channels = input_sz[3]\n",
    "\n",
    "    if layer_type == 'conv':\n",
    "        # Your code here\n",
    "        weight_width, weight_height, channels, filter_count = layer_param\n",
    "        \n",
    "        padding = 2.\n",
    "        \n",
    "        stride = 1.\n",
    "        \n",
    "        height = 1.+((height_in + 2*padding - (weight_height-1)-1) / stride)\n",
    "        height = math.floor(height)\n",
    "        \n",
    "        width = 1.+((width_in + 2*padding - (weight_width-1)-1) / stride)\n",
    "        width = math.floor(width)\n",
    "        \n",
    "        # Return format: (batch_size, width, height, channels)\n",
    "        return (batch_size, width, height, filter_count)\n",
    "    \n",
    "    elif layer_type == 'pool':\n",
    "        \n",
    "        # Your code here\n",
    "        \n",
    "        padding = 0\n",
    "        \n",
    "        (x_window, y_window, x_stride, y_stride) = layer_param\n",
    "        \n",
    "        height = 1.+((height_in + 2*padding - (y_window-1)-1) / y_stride)\n",
    "        height = math.floor(height)\n",
    "        \n",
    "        width = 1.+((width_in + 2*padding - (x_window-1)-1) / x_stride)\n",
    "        width = math.floor(width)\n",
    "        \n",
    "        # Return format: (batch_size, width, height, channels)\n",
    "        \n",
    "        return (batch_size, width, height, channels)\n",
    "    \n",
    "    elif layer_type == 'fc':\n",
    "        \n",
    "        # Your code here\n",
    "        \n",
    "        (num_output_nodes, num_input_nodes) = layer_param\n",
    "        \n",
    "        # Return format: (batch_size, num_outputs)\n",
    "        \n",
    "        return (batch_size, num_output_nodes)\n",
    "    \n",
    "    elif layer_type == 'relu':\n",
    "        \n",
    "        # Your code here\n",
    "        \n",
    "        # Return format: Input-dependent tuple \n",
    "        \n",
    "        return input_sz\n",
    "\n",
    "layer_sz = []\n",
    "print(\"Input  : \", network_input_sz)\n",
    "for n in range(num_layers):\n",
    "    if n == 0:\n",
    "        layer_sz.append(get_output_size(network_input_sz, layer_type[n], layer_param[n]))\n",
    "    else:\n",
    "        layer_sz.append(get_output_size(layer_sz[n-1], layer_type[n], layer_param[n]))\n",
    "    print(\"Layer %d: \" % (n+1), layer_sz[n])"
   ]
  },
  {
   "cell_type": "code",
   "execution_count": 31,
   "metadata": {},
   "outputs": [
    {
     "name": "stdout",
     "output_type": "stream",
     "text": [
      "conv1.weight 100\n",
      "conv1.bias 4\n",
      "conv2.weight 800\n",
      "conv2.bias 8\n",
      "fc1.weight 100352\n",
      "fc1.bias 256\n",
      "fc2.weight 2560\n",
      "fc2.bias 10\n"
     ]
    }
   ],
   "source": [
    "for p in net.named_parameters():\n",
    "    params = np.prod(p[1].size())\n",
    "    print(p[0], params)"
   ]
  },
  {
   "cell_type": "markdown",
   "metadata": {},
   "source": [
    "### Question 3.\n",
    "\n",
    "Next, complete the `num_params` and `param_memory_size` functions to calculate the number of weights (i.e. parameters, including biases) required in each layer and the memory required for storing the weights (including biases) respectively. Assume weight is stored in single precision floating point format."
   ]
  },
  {
   "cell_type": "code",
   "execution_count": 33,
   "metadata": {},
   "outputs": [
    {
     "name": "stdout",
     "output_type": "stream",
     "text": [
      "Layer 1:  416.0\n",
      "Layer 2:  0.0\n",
      "Layer 3:  0.0\n",
      "Layer 4:  3232.0\n",
      "Layer 5:  0.0\n",
      "Layer 6:  0.0\n",
      "Layer 7:  402432.0\n",
      "Layer 8:  0.0\n",
      "Layer 9:  10280.0\n"
     ]
    }
   ],
   "source": [
    "def num_params(layer_type, layer_param):\n",
    "    if layer_type == 'conv':\n",
    "        \n",
    "        # Your code here\n",
    "        \n",
    "        weight_width, weight_height, channels, filter_count = layer_param\n",
    "        \n",
    "        # +1 for bias\n",
    "        total_params = ((weight_width * weight_height * channels)+1)*filter_count\n",
    "        \n",
    "        # Return format: (number_of_params)\n",
    "        \n",
    "        return total_params\n",
    "    \n",
    "    elif layer_type == 'pool':\n",
    "        \n",
    "        # Your code here\n",
    "        \n",
    "        total_params = 0\n",
    "        \n",
    "        # Return format: (number_of_params)\n",
    "        \n",
    "        return total_params\n",
    "    \n",
    "    elif layer_type == 'fc':\n",
    "        \n",
    "        # Your code here\n",
    "        \n",
    "        (num_output_nodes, num_input_nodes) = layer_param\n",
    "        \n",
    "        # +num_output_nodes for bias\n",
    "        total_params = (num_output_nodes * num_input_nodes) + num_output_nodes\n",
    "        \n",
    "        # Return format: (number_of_params)\n",
    "        \n",
    "        return total_params\n",
    "    \n",
    "    elif layer_type == 'relu':\n",
    "        \n",
    "        # Your code here\n",
    "        \n",
    "        total_params = 0\n",
    "        \n",
    "        # Return format: (number_of_params)\n",
    "        \n",
    "        return total_params\n",
    "\n",
    "# Required memory in bytes\n",
    "def param_memory_size(layer_type, layer_param):\n",
    "    \n",
    "    # Your code here\n",
    "    \n",
    "    params = num_params(layer_type, layer_param)\n",
    "    \n",
    "    bit_storage = params * 32.\n",
    "    \n",
    "    mem = bit_storage * 0.125\n",
    "    \n",
    "    # Return format: (mem_size_for_params)\n",
    "    \n",
    "    return mem\n",
    "\n",
    "layer_params_mem = []\n",
    "for n in range(num_layers):\n",
    "    layer_params_mem.append(param_memory_size(layer_type[n], layer_param[n]))\n",
    "    print(\"Layer %d: \" % (n+1), layer_params_mem[n])"
   ]
  },
  {
   "cell_type": "markdown",
   "metadata": {},
   "source": [
    "### Question 4.\n",
    "\n",
    "Determine the number of multiplications required per _batch_. Multiplications by zero should still be counted."
   ]
  },
  {
   "cell_type": "code",
   "execution_count": 35,
   "metadata": {},
   "outputs": [
    {
     "name": "stdout",
     "output_type": "stream",
     "text": [
      "Layer 1:  3920000\n",
      "Layer 2:  0\n",
      "Layer 3:  0\n",
      "Layer 4:  7840000\n",
      "Layer 5:  0\n",
      "Layer 6:  0\n",
      "Layer 7:  5017600\n",
      "Layer 8:  0\n",
      "Layer 9:  128000\n"
     ]
    }
   ],
   "source": [
    "def num_mult(input_sz, layer_type, layer_param):\n",
    "    if layer_type == 'conv':\n",
    "        # Your code here\n",
    "        \n",
    "        weight_width, weight_height, channels_in, filter_count = layer_param\n",
    "        \n",
    "        (batch_size, width_out, height_out, channels_out) = get_output_size(input_sz, layer_type, layer_param)\n",
    "        \n",
    "        num_mult = (weight_width * weight_height * channels_in) * width_out * height_out * channels_out * batch_size\n",
    "        \n",
    "        # Return format: (number_of_mult)\n",
    "        \n",
    "        return num_mult\n",
    "    elif layer_type == 'pool':\n",
    "        \n",
    "        # Your code here\n",
    "        \n",
    "        # Return format: (number_of_mult)\n",
    "        \n",
    "        return 0\n",
    "    elif layer_type == 'fc':\n",
    "        \n",
    "        # Your code here\n",
    "        \n",
    "        batch_size = input_sz[0]\n",
    "        \n",
    "        (num_output_nodes, num_input_nodes) = layer_param\n",
    "        \n",
    "        num_mult = batch_size * num_output_nodes * num_input_nodes\n",
    "        \n",
    "        # Return format: (number_of_mult)\n",
    "        \n",
    "        return num_mult\n",
    "    elif layer_type == 'relu':\n",
    "        \n",
    "        # Your code here\n",
    "        \n",
    "        \n",
    "        # Return format: (number_of_mult)\n",
    "        \n",
    "        return 0\n",
    "\n",
    "layer_mult_count = []\n",
    "for n in range(num_layers):\n",
    "    if n == 0:\n",
    "        layer_mult_count.append(num_mult(network_input_sz, layer_type[n], layer_param[n]))\n",
    "    else:\n",
    "        layer_mult_count.append(num_mult(layer_sz[n-1], layer_type[n], layer_param[n]))\n",
    "    print(\"Layer %d: \" % (n+1), layer_mult_count[n])"
   ]
  },
  {
   "cell_type": "markdown",
   "metadata": {},
   "source": [
    "### Network Summary\n",
    "\n",
    "Run this cell to summarize your results"
   ]
  },
  {
   "cell_type": "code",
   "execution_count": 36,
   "metadata": {},
   "outputs": [
    {
     "name": "stdout",
     "output_type": "stream",
     "text": [
      "Network Summary:\n",
      "Layer\tType\tInput Size\tWeight Param\tOutput Size\tWeight Memory\t#mult\n",
      "1\tconv\t(50, 28, 28, 1)\t(5, 5, 1, 4)\t(50, 28, 28, 4)\t416.0       \t3920000     \n",
      "2\trelu\t(50, 28, 28, 4)\tNone        \t(50, 28, 28, 4)\t0.0         \t0           \n",
      "3\tpool\t(50, 28, 28, 4)\t(2, 2, 2, 2)\t(50, 14, 14, 4)\t0.0         \t0           \n",
      "4\tconv\t(50, 14, 14, 4)\t(5, 5, 4, 8)\t(50, 14, 14, 8)\t3232.0      \t7840000     \n",
      "5\trelu\t(50, 14, 14, 8)\tNone        \t(50, 14, 14, 8)\t0.0         \t0           \n",
      "6\tpool\t(50, 14, 14, 8)\t(2, 2, 2, 2)\t(50, 7, 7, 8)\t0.0         \t0           \n",
      "7\tfc\t(50, 7, 7, 8)\t(256, 392)  \t(50, 256)   \t402432.0    \t5017600     \n",
      "8\trelu\t(50, 256)   \tNone        \t(50, 256)   \t0.0         \t0           \n",
      "9\tfc\t(50, 256)   \t(10, 256)   \t(50, 10)    \t10280.0     \t128000      \n"
     ]
    }
   ],
   "source": [
    "print(\"Network Summary:\")\n",
    "print(\"Layer\\tType\\tInput Size\\tWeight Param\\tOutput Size\\tWeight Memory\\t#mult\")\n",
    "for layer_idx in range(num_layers):\n",
    "    print(\"%d\\t%s\\t%s\\t%s\\t%s\\t%s\\t%s\" % (\n",
    "            (layer_idx+1),\n",
    "            layer_type[layer_idx], \n",
    "            str(network_input_sz if layer_idx == 0 else layer_sz[layer_idx-1]).ljust(12), \n",
    "            str(layer_param[layer_idx]).ljust(12), \n",
    "            str(layer_sz[layer_idx]).ljust(12), \n",
    "            str(layer_params_mem[layer_idx]).ljust(12),\n",
    "            str(layer_mult_count[layer_idx]).ljust(12)\n",
    "        ))"
   ]
  },
  {
   "cell_type": "markdown",
   "metadata": {},
   "source": [
    "## Training the network"
   ]
  },
  {
   "cell_type": "markdown",
   "metadata": {},
   "source": [
    "The code below trains for `num_epochs` number of epochs and plots the training error. If you want (not graded), you can update this function to calculate the validation accuracy after each epoch so that you can plot it later. You can then play around with the number of epochs to see how it affects the validation accuracy (also not graded).\n",
    "\n",
    "Note: The initialization below is not strictly necessary, as PyTorch will automoatically initialize the weights (including biases) for you. We've included initialization here so that if you run the cell more than once, you will start fresh."
   ]
  },
  {
   "cell_type": "code",
   "execution_count": 37,
   "metadata": {},
   "outputs": [
    {
     "name": "stdout",
     "output_type": "stream",
     "text": [
      "Accuracy of the network on the 50000 training images after epoch 1: 80.66 % (626.3 sec)\n",
      "Accuracy of the network on the validation images after epoch 1: 91.96 % (626.3 sec)\n",
      "Accuracy of the network on the 50000 training images after epoch 2: 92.94 % (1470.0 sec)\n",
      "Accuracy of the network on the validation images after epoch 2: 94.25 % (1470.0 sec)\n",
      "Accuracy of the network on the 50000 training images after epoch 3: 94.74 % (2338.3 sec)\n",
      "Accuracy of the network on the validation images after epoch 3: 95.62 % (2338.3 sec)\n"
     ]
    },
    {
     "ename": "KeyboardInterrupt",
     "evalue": "",
     "output_type": "error",
     "traceback": [
      "\u001b[0;31m---------------------------------------------------------------------------\u001b[0m",
      "\u001b[0;31mKeyboardInterrupt\u001b[0m                         Traceback (most recent call last)",
      "\u001b[0;32m/tmp/ipykernel_966/2388339197.py\u001b[0m in \u001b[0;36m<module>\u001b[0;34m\u001b[0m\n\u001b[1;32m     23\u001b[0m     \u001b[0mtotal_train\u001b[0m \u001b[0;34m=\u001b[0m \u001b[0;36m0\u001b[0m\u001b[0;34m\u001b[0m\u001b[0;34m\u001b[0m\u001b[0m\n\u001b[1;32m     24\u001b[0m \u001b[0;34m\u001b[0m\u001b[0m\n\u001b[0;32m---> 25\u001b[0;31m     \u001b[0;32mfor\u001b[0m \u001b[0mi\u001b[0m\u001b[0;34m,\u001b[0m \u001b[0mdata\u001b[0m \u001b[0;32min\u001b[0m \u001b[0menumerate\u001b[0m\u001b[0;34m(\u001b[0m\u001b[0mtrainloader\u001b[0m\u001b[0;34m,\u001b[0m \u001b[0;36m0\u001b[0m\u001b[0;34m)\u001b[0m\u001b[0;34m:\u001b[0m\u001b[0;34m\u001b[0m\u001b[0;34m\u001b[0m\u001b[0m\n\u001b[0m\u001b[1;32m     26\u001b[0m         \u001b[0minputs\u001b[0m\u001b[0;34m,\u001b[0m \u001b[0mlabels\u001b[0m \u001b[0;34m=\u001b[0m \u001b[0mdata\u001b[0m \u001b[0;31m# list of [inputs, labels]\u001b[0m\u001b[0;34m\u001b[0m\u001b[0;34m\u001b[0m\u001b[0m\n\u001b[1;32m     27\u001b[0m         \u001b[0;31m#print(labels.shape)\u001b[0m\u001b[0;34m\u001b[0m\u001b[0;34m\u001b[0m\u001b[0;34m\u001b[0m\u001b[0m\n",
      "\u001b[0;32m/usr/local/bin/conda/lib/python3.8/site-packages/torch/utils/data/dataloader.py\u001b[0m in \u001b[0;36m__next__\u001b[0;34m(self)\u001b[0m\n\u001b[1;32m    519\u001b[0m             \u001b[0;32mif\u001b[0m \u001b[0mself\u001b[0m\u001b[0;34m.\u001b[0m\u001b[0m_sampler_iter\u001b[0m \u001b[0;32mis\u001b[0m \u001b[0;32mNone\u001b[0m\u001b[0;34m:\u001b[0m\u001b[0;34m\u001b[0m\u001b[0;34m\u001b[0m\u001b[0m\n\u001b[1;32m    520\u001b[0m                 \u001b[0mself\u001b[0m\u001b[0;34m.\u001b[0m\u001b[0m_reset\u001b[0m\u001b[0;34m(\u001b[0m\u001b[0;34m)\u001b[0m\u001b[0;34m\u001b[0m\u001b[0;34m\u001b[0m\u001b[0m\n\u001b[0;32m--> 521\u001b[0;31m             \u001b[0mdata\u001b[0m \u001b[0;34m=\u001b[0m \u001b[0mself\u001b[0m\u001b[0;34m.\u001b[0m\u001b[0m_next_data\u001b[0m\u001b[0;34m(\u001b[0m\u001b[0;34m)\u001b[0m\u001b[0;34m\u001b[0m\u001b[0;34m\u001b[0m\u001b[0m\n\u001b[0m\u001b[1;32m    522\u001b[0m             \u001b[0mself\u001b[0m\u001b[0;34m.\u001b[0m\u001b[0m_num_yielded\u001b[0m \u001b[0;34m+=\u001b[0m \u001b[0;36m1\u001b[0m\u001b[0;34m\u001b[0m\u001b[0;34m\u001b[0m\u001b[0m\n\u001b[1;32m    523\u001b[0m             \u001b[0;32mif\u001b[0m \u001b[0mself\u001b[0m\u001b[0;34m.\u001b[0m\u001b[0m_dataset_kind\u001b[0m \u001b[0;34m==\u001b[0m \u001b[0m_DatasetKind\u001b[0m\u001b[0;34m.\u001b[0m\u001b[0mIterable\u001b[0m \u001b[0;32mand\u001b[0m\u001b[0;31m \u001b[0m\u001b[0;31m\\\u001b[0m\u001b[0;34m\u001b[0m\u001b[0;34m\u001b[0m\u001b[0m\n",
      "\u001b[0;32m/usr/local/bin/conda/lib/python3.8/site-packages/torch/utils/data/dataloader.py\u001b[0m in \u001b[0;36m_next_data\u001b[0;34m(self)\u001b[0m\n\u001b[1;32m    559\u001b[0m     \u001b[0;32mdef\u001b[0m \u001b[0m_next_data\u001b[0m\u001b[0;34m(\u001b[0m\u001b[0mself\u001b[0m\u001b[0;34m)\u001b[0m\u001b[0;34m:\u001b[0m\u001b[0;34m\u001b[0m\u001b[0;34m\u001b[0m\u001b[0m\n\u001b[1;32m    560\u001b[0m         \u001b[0mindex\u001b[0m \u001b[0;34m=\u001b[0m \u001b[0mself\u001b[0m\u001b[0;34m.\u001b[0m\u001b[0m_next_index\u001b[0m\u001b[0;34m(\u001b[0m\u001b[0;34m)\u001b[0m  \u001b[0;31m# may raise StopIteration\u001b[0m\u001b[0;34m\u001b[0m\u001b[0;34m\u001b[0m\u001b[0m\n\u001b[0;32m--> 561\u001b[0;31m         \u001b[0mdata\u001b[0m \u001b[0;34m=\u001b[0m \u001b[0mself\u001b[0m\u001b[0;34m.\u001b[0m\u001b[0m_dataset_fetcher\u001b[0m\u001b[0;34m.\u001b[0m\u001b[0mfetch\u001b[0m\u001b[0;34m(\u001b[0m\u001b[0mindex\u001b[0m\u001b[0;34m)\u001b[0m  \u001b[0;31m# may raise StopIteration\u001b[0m\u001b[0;34m\u001b[0m\u001b[0;34m\u001b[0m\u001b[0m\n\u001b[0m\u001b[1;32m    562\u001b[0m         \u001b[0;32mif\u001b[0m \u001b[0mself\u001b[0m\u001b[0;34m.\u001b[0m\u001b[0m_pin_memory\u001b[0m\u001b[0;34m:\u001b[0m\u001b[0;34m\u001b[0m\u001b[0;34m\u001b[0m\u001b[0m\n\u001b[1;32m    563\u001b[0m             \u001b[0mdata\u001b[0m \u001b[0;34m=\u001b[0m \u001b[0m_utils\u001b[0m\u001b[0;34m.\u001b[0m\u001b[0mpin_memory\u001b[0m\u001b[0;34m.\u001b[0m\u001b[0mpin_memory\u001b[0m\u001b[0;34m(\u001b[0m\u001b[0mdata\u001b[0m\u001b[0;34m)\u001b[0m\u001b[0;34m\u001b[0m\u001b[0;34m\u001b[0m\u001b[0m\n",
      "\u001b[0;32m/usr/local/bin/conda/lib/python3.8/site-packages/torch/utils/data/_utils/fetch.py\u001b[0m in \u001b[0;36mfetch\u001b[0;34m(self, possibly_batched_index)\u001b[0m\n\u001b[1;32m     47\u001b[0m     \u001b[0;32mdef\u001b[0m \u001b[0mfetch\u001b[0m\u001b[0;34m(\u001b[0m\u001b[0mself\u001b[0m\u001b[0;34m,\u001b[0m \u001b[0mpossibly_batched_index\u001b[0m\u001b[0;34m)\u001b[0m\u001b[0;34m:\u001b[0m\u001b[0;34m\u001b[0m\u001b[0;34m\u001b[0m\u001b[0m\n\u001b[1;32m     48\u001b[0m         \u001b[0;32mif\u001b[0m \u001b[0mself\u001b[0m\u001b[0;34m.\u001b[0m\u001b[0mauto_collation\u001b[0m\u001b[0;34m:\u001b[0m\u001b[0;34m\u001b[0m\u001b[0;34m\u001b[0m\u001b[0m\n\u001b[0;32m---> 49\u001b[0;31m             \u001b[0mdata\u001b[0m \u001b[0;34m=\u001b[0m \u001b[0;34m[\u001b[0m\u001b[0mself\u001b[0m\u001b[0;34m.\u001b[0m\u001b[0mdataset\u001b[0m\u001b[0;34m[\u001b[0m\u001b[0midx\u001b[0m\u001b[0;34m]\u001b[0m \u001b[0;32mfor\u001b[0m \u001b[0midx\u001b[0m \u001b[0;32min\u001b[0m \u001b[0mpossibly_batched_index\u001b[0m\u001b[0;34m]\u001b[0m\u001b[0;34m\u001b[0m\u001b[0;34m\u001b[0m\u001b[0m\n\u001b[0m\u001b[1;32m     50\u001b[0m         \u001b[0;32melse\u001b[0m\u001b[0;34m:\u001b[0m\u001b[0;34m\u001b[0m\u001b[0;34m\u001b[0m\u001b[0m\n\u001b[1;32m     51\u001b[0m             \u001b[0mdata\u001b[0m \u001b[0;34m=\u001b[0m \u001b[0mself\u001b[0m\u001b[0;34m.\u001b[0m\u001b[0mdataset\u001b[0m\u001b[0;34m[\u001b[0m\u001b[0mpossibly_batched_index\u001b[0m\u001b[0;34m]\u001b[0m\u001b[0;34m\u001b[0m\u001b[0;34m\u001b[0m\u001b[0m\n",
      "\u001b[0;32m/usr/local/bin/conda/lib/python3.8/site-packages/torch/utils/data/_utils/fetch.py\u001b[0m in \u001b[0;36m<listcomp>\u001b[0;34m(.0)\u001b[0m\n\u001b[1;32m     47\u001b[0m     \u001b[0;32mdef\u001b[0m \u001b[0mfetch\u001b[0m\u001b[0;34m(\u001b[0m\u001b[0mself\u001b[0m\u001b[0;34m,\u001b[0m \u001b[0mpossibly_batched_index\u001b[0m\u001b[0;34m)\u001b[0m\u001b[0;34m:\u001b[0m\u001b[0;34m\u001b[0m\u001b[0;34m\u001b[0m\u001b[0m\n\u001b[1;32m     48\u001b[0m         \u001b[0;32mif\u001b[0m \u001b[0mself\u001b[0m\u001b[0;34m.\u001b[0m\u001b[0mauto_collation\u001b[0m\u001b[0;34m:\u001b[0m\u001b[0;34m\u001b[0m\u001b[0;34m\u001b[0m\u001b[0m\n\u001b[0;32m---> 49\u001b[0;31m             \u001b[0mdata\u001b[0m \u001b[0;34m=\u001b[0m \u001b[0;34m[\u001b[0m\u001b[0mself\u001b[0m\u001b[0;34m.\u001b[0m\u001b[0mdataset\u001b[0m\u001b[0;34m[\u001b[0m\u001b[0midx\u001b[0m\u001b[0;34m]\u001b[0m \u001b[0;32mfor\u001b[0m \u001b[0midx\u001b[0m \u001b[0;32min\u001b[0m \u001b[0mpossibly_batched_index\u001b[0m\u001b[0;34m]\u001b[0m\u001b[0;34m\u001b[0m\u001b[0;34m\u001b[0m\u001b[0m\n\u001b[0m\u001b[1;32m     50\u001b[0m         \u001b[0;32melse\u001b[0m\u001b[0;34m:\u001b[0m\u001b[0;34m\u001b[0m\u001b[0;34m\u001b[0m\u001b[0m\n\u001b[1;32m     51\u001b[0m             \u001b[0mdata\u001b[0m \u001b[0;34m=\u001b[0m \u001b[0mself\u001b[0m\u001b[0;34m.\u001b[0m\u001b[0mdataset\u001b[0m\u001b[0;34m[\u001b[0m\u001b[0mpossibly_batched_index\u001b[0m\u001b[0;34m]\u001b[0m\u001b[0;34m\u001b[0m\u001b[0;34m\u001b[0m\u001b[0m\n",
      "\u001b[0;32m/usr/local/bin/conda/lib/python3.8/site-packages/torchvision/datasets/mnist.py\u001b[0m in \u001b[0;36m__getitem__\u001b[0;34m(self, index)\u001b[0m\n\u001b[1;32m    132\u001b[0m \u001b[0;34m\u001b[0m\u001b[0m\n\u001b[1;32m    133\u001b[0m         \u001b[0;32mif\u001b[0m \u001b[0mself\u001b[0m\u001b[0;34m.\u001b[0m\u001b[0mtransform\u001b[0m \u001b[0;32mis\u001b[0m \u001b[0;32mnot\u001b[0m \u001b[0;32mNone\u001b[0m\u001b[0;34m:\u001b[0m\u001b[0;34m\u001b[0m\u001b[0;34m\u001b[0m\u001b[0m\n\u001b[0;32m--> 134\u001b[0;31m             \u001b[0mimg\u001b[0m \u001b[0;34m=\u001b[0m \u001b[0mself\u001b[0m\u001b[0;34m.\u001b[0m\u001b[0mtransform\u001b[0m\u001b[0;34m(\u001b[0m\u001b[0mimg\u001b[0m\u001b[0;34m)\u001b[0m\u001b[0;34m\u001b[0m\u001b[0;34m\u001b[0m\u001b[0m\n\u001b[0m\u001b[1;32m    135\u001b[0m \u001b[0;34m\u001b[0m\u001b[0m\n\u001b[1;32m    136\u001b[0m         \u001b[0;32mif\u001b[0m \u001b[0mself\u001b[0m\u001b[0;34m.\u001b[0m\u001b[0mtarget_transform\u001b[0m \u001b[0;32mis\u001b[0m \u001b[0;32mnot\u001b[0m \u001b[0;32mNone\u001b[0m\u001b[0;34m:\u001b[0m\u001b[0;34m\u001b[0m\u001b[0;34m\u001b[0m\u001b[0m\n",
      "\u001b[0;32m/usr/local/bin/conda/lib/python3.8/site-packages/torchvision/transforms/transforms.py\u001b[0m in \u001b[0;36m__call__\u001b[0;34m(self, img)\u001b[0m\n\u001b[1;32m     59\u001b[0m     \u001b[0;32mdef\u001b[0m \u001b[0m__call__\u001b[0m\u001b[0;34m(\u001b[0m\u001b[0mself\u001b[0m\u001b[0;34m,\u001b[0m \u001b[0mimg\u001b[0m\u001b[0;34m)\u001b[0m\u001b[0;34m:\u001b[0m\u001b[0;34m\u001b[0m\u001b[0;34m\u001b[0m\u001b[0m\n\u001b[1;32m     60\u001b[0m         \u001b[0;32mfor\u001b[0m \u001b[0mt\u001b[0m \u001b[0;32min\u001b[0m \u001b[0mself\u001b[0m\u001b[0;34m.\u001b[0m\u001b[0mtransforms\u001b[0m\u001b[0;34m:\u001b[0m\u001b[0;34m\u001b[0m\u001b[0;34m\u001b[0m\u001b[0m\n\u001b[0;32m---> 61\u001b[0;31m             \u001b[0mimg\u001b[0m \u001b[0;34m=\u001b[0m \u001b[0mt\u001b[0m\u001b[0;34m(\u001b[0m\u001b[0mimg\u001b[0m\u001b[0;34m)\u001b[0m\u001b[0;34m\u001b[0m\u001b[0;34m\u001b[0m\u001b[0m\n\u001b[0m\u001b[1;32m     62\u001b[0m         \u001b[0;32mreturn\u001b[0m \u001b[0mimg\u001b[0m\u001b[0;34m\u001b[0m\u001b[0;34m\u001b[0m\u001b[0m\n\u001b[1;32m     63\u001b[0m \u001b[0;34m\u001b[0m\u001b[0m\n",
      "\u001b[0;32m/usr/local/bin/conda/lib/python3.8/site-packages/torchvision/transforms/transforms.py\u001b[0m in \u001b[0;36m__call__\u001b[0;34m(self, pic)\u001b[0m\n\u001b[1;32m     96\u001b[0m             \u001b[0mTensor\u001b[0m\u001b[0;34m:\u001b[0m \u001b[0mConverted\u001b[0m \u001b[0mimage\u001b[0m\u001b[0;34m.\u001b[0m\u001b[0;34m\u001b[0m\u001b[0;34m\u001b[0m\u001b[0m\n\u001b[1;32m     97\u001b[0m         \"\"\"\n\u001b[0;32m---> 98\u001b[0;31m         \u001b[0;32mreturn\u001b[0m \u001b[0mF\u001b[0m\u001b[0;34m.\u001b[0m\u001b[0mto_tensor\u001b[0m\u001b[0;34m(\u001b[0m\u001b[0mpic\u001b[0m\u001b[0;34m)\u001b[0m\u001b[0;34m\u001b[0m\u001b[0;34m\u001b[0m\u001b[0m\n\u001b[0m\u001b[1;32m     99\u001b[0m \u001b[0;34m\u001b[0m\u001b[0m\n\u001b[1;32m    100\u001b[0m     \u001b[0;32mdef\u001b[0m \u001b[0m__repr__\u001b[0m\u001b[0;34m(\u001b[0m\u001b[0mself\u001b[0m\u001b[0;34m)\u001b[0m\u001b[0;34m:\u001b[0m\u001b[0;34m\u001b[0m\u001b[0;34m\u001b[0m\u001b[0m\n",
      "\u001b[0;32m/usr/local/bin/conda/lib/python3.8/site-packages/torchvision/transforms/functional.py\u001b[0m in \u001b[0;36mto_tensor\u001b[0;34m(pic)\u001b[0m\n\u001b[1;32m    144\u001b[0m     \u001b[0;32mif\u001b[0m \u001b[0mpic\u001b[0m\u001b[0;34m.\u001b[0m\u001b[0mmode\u001b[0m \u001b[0;34m==\u001b[0m \u001b[0;34m'1'\u001b[0m\u001b[0;34m:\u001b[0m\u001b[0;34m\u001b[0m\u001b[0;34m\u001b[0m\u001b[0m\n\u001b[1;32m    145\u001b[0m         \u001b[0mimg\u001b[0m \u001b[0;34m=\u001b[0m \u001b[0;36m255\u001b[0m \u001b[0;34m*\u001b[0m \u001b[0mimg\u001b[0m\u001b[0;34m\u001b[0m\u001b[0;34m\u001b[0m\u001b[0m\n\u001b[0;32m--> 146\u001b[0;31m     \u001b[0mimg\u001b[0m \u001b[0;34m=\u001b[0m \u001b[0mimg\u001b[0m\u001b[0;34m.\u001b[0m\u001b[0mview\u001b[0m\u001b[0;34m(\u001b[0m\u001b[0mpic\u001b[0m\u001b[0;34m.\u001b[0m\u001b[0msize\u001b[0m\u001b[0;34m[\u001b[0m\u001b[0;36m1\u001b[0m\u001b[0;34m]\u001b[0m\u001b[0;34m,\u001b[0m \u001b[0mpic\u001b[0m\u001b[0;34m.\u001b[0m\u001b[0msize\u001b[0m\u001b[0;34m[\u001b[0m\u001b[0;36m0\u001b[0m\u001b[0;34m]\u001b[0m\u001b[0;34m,\u001b[0m \u001b[0mlen\u001b[0m\u001b[0;34m(\u001b[0m\u001b[0mpic\u001b[0m\u001b[0;34m.\u001b[0m\u001b[0mgetbands\u001b[0m\u001b[0;34m(\u001b[0m\u001b[0;34m)\u001b[0m\u001b[0;34m)\u001b[0m\u001b[0;34m)\u001b[0m\u001b[0;34m\u001b[0m\u001b[0;34m\u001b[0m\u001b[0m\n\u001b[0m\u001b[1;32m    147\u001b[0m     \u001b[0;31m# put it from HWC to CHW format\u001b[0m\u001b[0;34m\u001b[0m\u001b[0;34m\u001b[0m\u001b[0;34m\u001b[0m\u001b[0m\n\u001b[1;32m    148\u001b[0m     \u001b[0mimg\u001b[0m \u001b[0;34m=\u001b[0m \u001b[0mimg\u001b[0m\u001b[0;34m.\u001b[0m\u001b[0mpermute\u001b[0m\u001b[0;34m(\u001b[0m\u001b[0;34m(\u001b[0m\u001b[0;36m2\u001b[0m\u001b[0;34m,\u001b[0m \u001b[0;36m0\u001b[0m\u001b[0;34m,\u001b[0m \u001b[0;36m1\u001b[0m\u001b[0;34m)\u001b[0m\u001b[0;34m)\u001b[0m\u001b[0;34m.\u001b[0m\u001b[0mcontiguous\u001b[0m\u001b[0;34m(\u001b[0m\u001b[0;34m)\u001b[0m\u001b[0;34m\u001b[0m\u001b[0;34m\u001b[0m\u001b[0m\n",
      "\u001b[0;31mKeyboardInterrupt\u001b[0m: "
     ]
    }
   ],
   "source": [
    "training_acc_vect = np.zeros(num_epochs)\n",
    "valid_acc_vect = np.zeros(num_epochs)\n",
    "\n",
    "start_time = time.time()\n",
    "\n",
    "# initialize weights and biases\n",
    "nn.init.kaiming_uniform_(net.conv1.weight, nonlinearity = 'relu')\n",
    "stdv = 1./np.sqrt(net.conv1.bias.size(0))\n",
    "nn.init.uniform_(net.conv1.bias, -stdv, stdv)\n",
    "nn.init.kaiming_uniform_(net.conv2.weight, nonlinearity = 'relu')\n",
    "stdv = 1./np.sqrt(net.conv2.bias.size(0))\n",
    "nn.init.uniform_(net.conv2.bias, -stdv, stdv)\n",
    "nn.init.kaiming_uniform_(net.fc1.weight, nonlinearity = 'relu')\n",
    "stdv = 1./np.sqrt(net.fc1.bias.size(0))\n",
    "nn.init.uniform_(net.fc1.bias, -stdv, stdv)\n",
    "nn.init.kaiming_uniform_(net.fc2.weight, nonlinearity = 'relu')\n",
    "stdv = 1./np.sqrt(net.fc2.bias.size(0))\n",
    "nn.init.uniform_(net.fc2.bias, -stdv, stdv)\n",
    "\n",
    "# train network\n",
    "for epoch in range(num_epochs):  # loop over the dataset multiple times while training\n",
    "    correct_train = 0\n",
    "    total_train = 0\n",
    "    \n",
    "    for i, data in enumerate(trainloader, 0):\n",
    "        inputs, labels = data # list of [inputs, labels]\n",
    "        #print(labels.shape)\n",
    "        optimizer.zero_grad() # clear gradients\n",
    "        outputs = net(inputs) # forward step\n",
    "        loss = criterion(outputs, labels)\n",
    "        loss.backward() # backprop\n",
    "        optimizer.step() # optimize weights\n",
    "\n",
    "        # print statistics\n",
    "        duration = time.time() - start_time\n",
    "        _, predicted = torch.max(outputs.data, 1)\n",
    "        total_train += labels.size(0)\n",
    "        correct_train += (predicted == labels).sum().item()\n",
    "    \n",
    "    training_acc = correct_train / total_train * 100\n",
    "    training_acc_vect[epoch] = training_acc\n",
    "    \n",
    "    print('Accuracy of the network on the 50000 training images after epoch %d: %.2f %% (%.1f sec)' % (\n",
    "        epoch + 1, training_acc, duration))\n",
    "    \n",
    "    # your code here to calculate the validation error after each epoch\n",
    "    \n",
    "    total = 0\n",
    "    correct = 0\n",
    "    for i, data in enumerate(trainloader, 0):\n",
    "        inputs, labels = data\n",
    "        outputs = net(inputs)\n",
    "        _, predicted = torch.max(outputs.data, 1)\n",
    "        total += labels.size(0)\n",
    "        correct += (predicted == labels).sum().item()\n",
    "    \n",
    "    val_acc = correct / total * 100\n",
    "    print('Accuracy of the network on the validation images after epoch %d: %.2f %% (%.1f sec)' % (\n",
    "        epoch + 1, val_acc, duration))\n",
    "    \n",
    "    \n",
    "print('Finished Training')"
   ]
  },
  {
   "cell_type": "code",
   "execution_count": 61,
   "metadata": {},
   "outputs": [
    {
     "name": "stdout",
     "output_type": "stream",
     "text": [
      "Final Training Accuracy: 94.738\n"
     ]
    },
    {
     "data": {
      "image/png": "[encoded data removed]",
      "text/plain": [
       "<Figure size 432x288 with 1 Axes>"
      ]
     },
     "metadata": {
      "needs_background": "light"
     },
     "output_type": "display_data"
    }
   ],
   "source": [
    "epoch_vect = np.linspace(1, 3, 3)\n",
    "\n",
    "plt.figure(1)\n",
    "train_line, = plt.plot(epoch_vect, 100-training_acc_vect[:3])\n",
    "\n",
    "print(\"Final Training Accuracy: %g\" % (training_acc))\n",
    "\n",
    "# Your code here to plot validation error\n",
    "val_accs = np.array([91.96, 94.25, 95.62])\n",
    "valid_line, = plt.plot(epoch_vect, 100-val_accs)\n",
    "plt.xlabel('Epoch')\n",
    "plt.ylabel('Error[%]')\n",
    "plt.legend([train_line, valid_line], [\"Train\", \"Valid\"])\n",
    "plt.show()"
   ]
  },
  {
   "cell_type": "markdown",
   "metadata": {},
   "source": [
    "### Question 5.\n",
    "\n",
    "(Theory question, no coding component.) You have trained a classifier to recognize handwritten digits with a training set of black digits on a white background. You then give it test images with white digits on a black background, however, it doesn't seem to perform the classification correctly. Please list the principles that could explain why it doesn't work."
   ]
  },
  {
   "cell_type": "markdown",
   "metadata": {},
   "source": [
    "\n",
    "This is the problem of domain mismatch between the training and testing conditions. During training the model used black pixel values to detect the digit. In the process the model must learn to ignore a lot of white pixels and concentrate only on black pixels to predict the digit. Hence, during testing the model does not do well with white digits on black pixels.\n",
    "\n"
   ]
  },
  {
   "cell_type": "markdown",
   "metadata": {},
   "source": [
    "## Exporting and loading the model, performing inference\n",
    "\n",
    "The following 2 lines save the model to the location specified by PATH."
   ]
  },
  {
   "cell_type": "code",
   "execution_count": 62,
   "metadata": {},
   "outputs": [],
   "source": [
    "PATH = './my_mnist_net.pth'\n",
    "torch.save(net.state_dict(), PATH)"
   ]
  },
  {
   "cell_type": "markdown",
   "metadata": {},
   "source": [
    "### Question 6.\n",
    "\n",
    "Run inference *using the saved model* and print the training, validation and test accuracies"
   ]
  },
  {
   "cell_type": "code",
   "execution_count": 69,
   "metadata": {},
   "outputs": [
    {
     "name": "stderr",
     "output_type": "stream",
     "text": [
      "100%|██████████| 1000/1000 [03:42<00:00,  4.50it/s]\n",
      "100%|██████████| 200/200 [00:43<00:00,  4.56it/s]\n",
      "100%|██████████| 200/200 [00:43<00:00,  4.57it/s]"
     ]
    },
    {
     "name": "stdout",
     "output_type": "stream",
     "text": [
      "Training Accuracy: 96.092\n",
      "Validation Accuracy: 95.2\n",
      "Test Accuracy: 96.15\n"
     ]
    },
    {
     "name": "stderr",
     "output_type": "stream",
     "text": [
      "\n"
     ]
    }
   ],
   "source": [
    "import tqdm\n",
    "loaded_net = Net()\n",
    "\n",
    "def eval_model(PATH, trainloader, validloader, testloader):\n",
    "    \n",
    "    state_dict = torch.load(PATH)\n",
    "    loaded_net.load_state_dict(state_dict)\n",
    "    \n",
    "    # your code here\n",
    "    training_accuracy = 0\n",
    "    validation_accuracy = 0\n",
    "    test_accuracy = 0\n",
    "    \n",
    "    def get_accuracy(data_loader):\n",
    "        acc = 0\n",
    "        tot = 0\n",
    "        corr = 0\n",
    "        for i, data in enumerate(tqdm.tqdm(data_loader, total=len(data_loader))):\n",
    "            inputs, labels = data\n",
    "            outputs = net(inputs)\n",
    "            _, predicted = torch.max(outputs.data, 1)\n",
    "            tot += labels.size(0)\n",
    "            corr += (predicted == labels).sum().item()\n",
    "        \n",
    "        acc = corr / tot * 100\n",
    "        return acc\n",
    "    \n",
    "    training_accuracy = get_accuracy(trainloader)\n",
    "    validation_accuracy = get_accuracy(validloader)\n",
    "    test_accuracy = get_accuracy(testloader)\n",
    "        \n",
    "    return training_accuracy, validation_accuracy, test_accuracy\n",
    "\n",
    "training_accuracy, validation_accuracy, test_accuracy = eval_model(PATH, trainloader, validloader, testloader)\n",
    "print('Training Accuracy: %g' % training_accuracy)        \n",
    "print('Validation Accuracy: %g' % validation_accuracy)\n",
    "print('Test Accuracy: %g' % test_accuracy)"
   ]
  },
  {
   "cell_type": "markdown",
   "metadata": {},
   "source": [
    "### Question 7.\n",
    "\n",
    "Edit the code below to save the weights and biases for the convolutional and fully-connected layers only. They should be saved as numpy arrays into a dictionary."
   ]
  },
  {
   "cell_type": "code",
   "execution_count": 90,
   "metadata": {},
   "outputs": [],
   "source": [
    "model_parameters = {}\n",
    "\n",
    "# Your code here\n",
    "\n",
    "layer_ids = [i for i, x in enumerate(layer_type) if x == 'conv' or x == 'fc']\n",
    "\n",
    "idx = 0\n",
    "for layer in net.children():\n",
    "    if isinstance(layer, nn.Conv2d) or isinstance(layer, nn.Linear):\n",
    "        weight = layer.weight\n",
    "        bias = layer.bias\n",
    "        layer_id = layer_ids[idx] \n",
    "        model_parameters['l' + str(layer_id) + '_w'] = weight.detach().numpy()\n",
    "        model_parameters['l' + str(layer_id) + '_b'] = bias.detach().numpy()\n",
    "        idx += 1\n",
    "\n",
    "np.save('my_model_parameters.npy', model_parameters, allow_pickle=True)"
   ]
  },
  {
   "cell_type": "markdown",
   "metadata": {},
   "source": [
    "### Question 8.\n",
    "We will evaluate the inference-time energy and latency of the neural network we trained above on the model of a custom acclerator design. The profiler uses the [timeloop/accelergy](http://accelergy.mit.edu/tutorial.html) commands, which we will cover more in-depth in the later part of this course, on the convolution/fully-connected layers in the neural network to obtain the energy estimates. This part may take several minutes to run."
   ]
  },
  {
   "cell_type": "code",
   "execution_count": 91,
   "metadata": {},
   "outputs": [],
   "source": [
    "!accelergyTables"
   ]
  },
  {
   "cell_type": "code",
   "execution_count": 92,
   "metadata": {
    "scrolled": true
   },
   "outputs": [
    {
     "name": "stdout",
     "output_type": "stream",
     "text": [
      "converting nn.Conv2d and nn.Linear in mnist model ...\n",
      "workload file --> /home/workspace/lab1/workloads/mnist/mnist_layer1.yaml\n",
      "workload file --> /home/workspace/lab1/workloads/mnist/mnist_layer2.yaml\n",
      "workload file --> /home/workspace/lab1/workloads/mnist/mnist_layer3.yaml\n",
      "workload file --> /home/workspace/lab1/workloads/mnist/mnist_layer4.yaml\n",
      "conversion complete!\n",
      "\n",
      "running timeloop to get energy and latency...\n"
     ]
    },
    {
     "name": "stderr",
     "output_type": "stream",
     "text": [
      "100%|██████████| 4/4 [07:08<00:00, 107.14s/it]"
     ]
    },
    {
     "name": "stdout",
     "output_type": "stream",
     "text": [
      "timeloop running finished!\n",
      "ID: 1 \t Energy: 1683439.4 \t Cycle: 19600 \t Number of same architecture layers: 1\n",
      "ID: 2 \t Energy: 2368815.15 \t Cycle: 4900 \t Number of same architecture layers: 1\n",
      "ID: 3 \t Energy: 14177701.54 \t Cycle: 448 \t Number of same architecture layers: 1\n",
      "ID: 4 \t Energy: 390710.34 \t Cycle: 16 \t Number of same architecture layers: 1\n",
      "\n",
      "Total Energy: 18620666.43 pj \n",
      "Total Cycles: 24964\n"
     ]
    },
    {
     "name": "stderr",
     "output_type": "stream",
     "text": [
      "\n"
     ]
    }
   ],
   "source": [
    "from profiler import Profiler\n",
    "profiler = Profiler(\n",
    "    top_dir='workloads',\n",
    "    sub_dir='mnist',\n",
    "    timeloop_dir='simple_weight_stationary',\n",
    "    model=net,\n",
    "    input_size=(1, 28, 28),\n",
    "    batch_size=1,\n",
    "    convert_fc=True,\n",
    "    exception_module_names=[]\n",
    ")\n",
    "\n",
    "results = profiler.profile()\n",
    "\n",
    "total_energy = 0\n",
    "total_cycle = 0\n",
    "\n",
    "for layer_id, info in results.items():\n",
    "    print(f\"ID: {layer_id} \\t Energy: {info['energy']} \\t Cycle: {info['cycle']} \\t Number of same architecture layers: {info['num']}\")\n",
    "    total_energy += info['energy'] * info['num']\n",
    "    total_cycle += info['cycle'] * info['num']\n",
    "    \n",
    "print(f'\\nTotal Energy: {total_energy} pj \\nTotal Cycles: {total_cycle}')"
   ]
  },
  {
   "cell_type": "markdown",
   "metadata": {},
   "source": [
    "Report the total energy and cycles below:\n",
    "\n",
    "Energy:\n",
    "\n",
    "\n",
    "18620666.43 pj\n",
    "\n",
    "\n",
    "\n",
    "Cycles:\n",
    "\n",
    "24964\n",
    "\n",
    "\n"
   ]
  }
 ],
 "metadata": {
  "kernelspec": {
   "display_name": "Python 3 (ipykernel)",
   "language": "python",
   "name": "python3"
  },
  "language_info": {
   "codemirror_mode": {
    "name": "ipython",
    "version": 3
   },
   "file_extension": ".py",
   "mimetype": "text/x-python",
   "name": "python",
   "nbconvert_exporter": "python",
   "pygments_lexer": "ipython3",
   "version": "3.8.12"
  }
 },
 "nbformat": 4,
 "nbformat_minor": 1
}
