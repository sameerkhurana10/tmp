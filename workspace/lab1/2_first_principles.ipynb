{
 "cells": [
  {
   "cell_type": "markdown",
   "metadata": {},
   "source": [
    "# Your name:\n",
    "Sameer Khurana (skhurana)"
   ]
  },
  {
   "cell_type": "markdown",
   "metadata": {},
   "source": [
    "# Part 2: MNIST: First Principles\n",
    "\n",
    "In this notebook, we will recreate the functions that PyTorch provides for the individual layers in our network using primtive Python code. The goal of this notebook is to understand what happens in a network underneath the hood."
   ]
  },
  {
   "cell_type": "code",
   "execution_count": 75,
   "metadata": {},
   "outputs": [],
   "source": [
    "import math\n",
    "import torch\n",
    "import torchvision\n",
    "import numpy as np\n",
    "from tqdm import tqdm\n",
    "import matplotlib.pyplot as plt\n",
    "%matplotlib inline"
   ]
  },
  {
   "cell_type": "markdown",
   "metadata": {},
   "source": [
    "Import MNIST test data as numpy array."
   ]
  },
  {
   "cell_type": "code",
   "execution_count": 2,
   "metadata": {},
   "outputs": [
    {
     "name": "stdout",
     "output_type": "stream",
     "text": [
      "(10000, 28, 28)\n"
     ]
    }
   ],
   "source": [
    "# download test set using torchvision\n",
    "transform = torchvision.transforms.Compose(\n",
    "    [torchvision.transforms.ToTensor(),\n",
    "     torchvision.transforms.Normalize((0.5,), (0.5,))])\n",
    "\n",
    "testset = torchvision.datasets.MNIST(root='./data', train=False,\n",
    "                                       download=True, transform=transform)\n",
    "\n",
    "testloader = torch.utils.data.DataLoader(testset, batch_size=1)\n",
    "\n",
    "# convert to numpy array\n",
    "images_array = torch.zeros((10000,28,28))\n",
    "labels_array = torch.zeros(10000)\n",
    "for i, data in enumerate(testloader, 0):\n",
    "    image, label = data\n",
    "    images_array[i,:,:] = image\n",
    "    labels_array[i] = label\n",
    "images_array = images_array.numpy()\n",
    "labels_array = labels_array.numpy()\n",
    "labels_array = labels_array.astype(int)\n",
    "print(images_array.shape)"
   ]
  },
  {
   "cell_type": "markdown",
   "metadata": {},
   "source": [
    "## Load the trained model parameters"
   ]
  },
  {
   "cell_type": "markdown",
   "metadata": {},
   "source": [
    "### Question 9.\n",
    "\n",
    "Visualize the first test image and label.\n",
    "\n",
    "Load the model parameters (the file you saved in pytorch.ipynb). Similarly visualize the weights of the filters used in the first convolutional layer."
   ]
  },
  {
   "cell_type": "code",
   "execution_count": 23,
   "metadata": {},
   "outputs": [
    {
     "data": {
      "image/png": "[encoded data removed]",
      "text/plain": [
       "<Figure size 432x288 with 1 Axes>"
      ]
     },
     "metadata": {
      "needs_background": "light"
     },
     "output_type": "display_data"
    },
    {
     "data": {
      "image/png": "[encoded data removed]",
      "text/plain": [
       "<Figure size 432x288 with 4 Axes>"
      ]
     },
     "metadata": {
      "needs_background": "light"
     },
     "output_type": "display_data"
    }
   ],
   "source": [
    "# Make sure you have saved model_parameters.npy\n",
    "model_parameters = np.load('my_model_parameters.npy', allow_pickle=True)\n",
    "model_parameters = model_parameters[()]\n",
    "\n",
    "plt.figure(1)\n",
    "# Your code to display one input image here (with its label)\n",
    "plt.imshow(-1*images_array[0], cmap='gray')\n",
    "plt.text(10, -2, \"Label is \" + str(labels_array[0]))\n",
    "plt.axis('off')\n",
    "l1_filter = model_parameters['l0_w'] # update\n",
    "num_input_channels = l1_filter.shape[1]\n",
    "num_out_channels = l1_filter.shape[0] # filters\n",
    "plt.figure(2)\n",
    "for x in range(num_out_channels): # filters\n",
    "    for y in range(num_input_channels): # channels\n",
    "        plt.subplot(num_input_channels, num_out_channels, y*num_out_channels + x + 1)\n",
    "        # Your code for the filter here\n",
    "        plt.imshow(-1*l1_filter[x, y], cmap=\"gray\")\n",
    "        plt.title(\"In: %d, Out: %d\" % (y, x))\n",
    "        plt.axis('off')\n"
   ]
  },
  {
   "cell_type": "markdown",
   "metadata": {},
   "source": [
    "## Set up the network\n",
    "\n",
    "### Question 10.\n",
    "\n",
    "We need to write code to run the individual layers in our network. For simiplicity, assume that the batch size is 1, i.e., the activation layers are numpy arrays with shape (channels, height, width)."
   ]
  },
  {
   "cell_type": "code",
   "execution_count": 365,
   "metadata": {},
   "outputs": [],
   "source": [
    "def conv(x, F, b, U=1, padding=2):\n",
    "    C, H, W = x.shape\n",
    "    M, C, R, S = F.shape\n",
    "    P = (H - R + 2*padding + U) / U\n",
    "    Q = (W - S + 2*padding + U) / U\n",
    "    P = math.floor(P)\n",
    "    Q = math.floor(Q)\n",
    "    x = np.pad(x, pad_width=((0, 0), (2, 2), (2, 2)))\n",
    "    O = np.zeros((M, P, Q))\n",
    "    for m in range(M):\n",
    "        for p in range(P):\n",
    "            for q in range(Q):\n",
    "                for c in range(C):\n",
    "                    for r in range(R):\n",
    "                        for s in range(S):\n",
    "                            O[m][p][q] += (x[c][U*p+r][U*q+s] * F[m][c][r][s])\n",
    "    \n",
    "    return O + b[:, None, None]\n",
    "\n",
    "def fc(x, W, b):\n",
    "    out = W@x + b\n",
    "    return out\n",
    "\n",
    "def relu(x):\n",
    "    out = np.maximum(x, 0)\n",
    "    return out\n",
    "\n",
    "def pool2(x, dh, dw, U=2, padding=0):\n",
    "    C, H, W = x.shape\n",
    "    P = (H - dh + 2*padding + U) / U\n",
    "    Q = (W - dw + 2*padding + U) / U\n",
    "    P = math.floor(P)\n",
    "    Q = math.floor(Q)\n",
    "    O = np.zeros((C, P, Q))\n",
    "    for p in range(P):\n",
    "        for q in range(Q):\n",
    "            for c in range(C):\n",
    "                for r in range(dh):\n",
    "                    for s in range(dw):\n",
    "                        val = x[c][U*p+r][U*q+s]\n",
    "                        if O[c, p, q] < val:\n",
    "                            O[c, p, q] = val\n",
    "    return O\n",
    "\n",
    "def flatten(x):\n",
    "    # Your code here\n",
    "    return x.flatten()"
   ]
  },
  {
   "cell_type": "markdown",
   "metadata": {},
   "source": [
    "### Question 11.\n",
    "\n",
    "Compose the layers from above to create the network from `mnist/pytorch.py`"
   ]
  },
  {
   "cell_type": "code",
   "execution_count": 400,
   "metadata": {},
   "outputs": [],
   "source": [
    "def run_inference(image, model_parameters):\n",
    "    # Your code for defining the correct network topology here, using the saved model parameters\n",
    "    # replace code below\n",
    "    conv1_w = model_parameters['l0_w']\n",
    "    conv1_b = model_parameters['l0_b']\n",
    "    conv2_w = model_parameters['l3_w']\n",
    "    conv2_b = model_parameters['l3_b']\n",
    "    fc1_w = model_parameters['l6_w']\n",
    "    fc1_b = model_parameters['l6_b']\n",
    "    fc2_w = model_parameters['l8_w']\n",
    "    fc2_b = model_parameters['l8_b']\n",
    "    x = conv(image, conv1_w, conv1_b)\n",
    "    x = relu(x)\n",
    "    x = pool2(x, 2, 2)\n",
    "    x = conv(x, conv2_w, conv2_b)\n",
    "    x = relu(x)\n",
    "    x = pool2(x, 2, 2)\n",
    "    x = x.flatten()\n",
    "    x = fc(x, fc1_w, fc1_b)\n",
    "    x = relu(x)\n",
    "    x = fc(x, fc2_w, fc2_b)\n",
    "    output_class = np.argmax(x) # calculate output label here\n",
    "    return output_class"
   ]
  },
  {
   "cell_type": "markdown",
   "metadata": {},
   "source": [
    "Run the cell below to verify your network on the first 1000 images from the test dataset"
   ]
  },
  {
   "cell_type": "code",
   "execution_count": 404,
   "metadata": {},
   "outputs": [
    {
     "name": "stderr",
     "output_type": "stream",
     "text": [
      "100%|██████████| 1000/1000 [47:15<00:00,  2.84s/it]"
     ]
    },
    {
     "name": "stdout",
     "output_type": "stream",
     "text": [
      "Accuracy: 950/1000 (0.95)\n"
     ]
    },
    {
     "name": "stderr",
     "output_type": "stream",
     "text": [
      "\n"
     ]
    }
   ],
   "source": [
    "correct, total = (0, 1000)\n",
    "for n in tqdm(range(min(total, int(images_array.shape[0])))):\n",
    "    inference = run_inference(images_array[n][None, ...], model_parameters)\n",
    "    if labels_array[n] == inference:\n",
    "        correct += 1\n",
    "print(\"Accuracy: %d/%d (%.2g)\" % (correct, total, float(correct)/total))"
   ]
  },
  {
   "cell_type": "markdown",
   "metadata": {},
   "source": [
    "### Question 12.\n",
    "You have built a programmable system that performs classification on MNIST, where the input image size is 28x28 @ 95% accuracy. It only spends 0.1nJ per classification and operates at 100 classifications per second. You then use it to perform classification on ImageNet, where the input image size is 224x224 @ 95% accuracy. However, you noticed that the energy and latency scale much more than 224x224/(28x28). What could be causing the non-linear scaling? Answer in the cell below."
   ]
  },
  {
   "cell_type": "markdown",
   "metadata": {},
   "source": [
    "\n",
    "-your-answer-here-\n",
    "\n"
   ]
  }
 ],
 "metadata": {
  "kernelspec": {
   "display_name": "Python 3 (ipykernel)",
   "language": "python",
   "name": "python3"
  },
  "language_info": {
   "codemirror_mode": {
    "name": "ipython",
    "version": 3
   },
   "file_extension": ".py",
   "mimetype": "text/x-python",
   "name": "python",
   "nbconvert_exporter": "python",
   "pygments_lexer": "ipython3",
   "version": "3.8.12"
  }
 },
 "nbformat": 4,
 "nbformat_minor": 1
}
